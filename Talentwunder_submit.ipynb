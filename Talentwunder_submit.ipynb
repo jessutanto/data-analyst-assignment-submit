{
 "cells": [
  {
   "cell_type": "code",
   "execution_count": 1,
   "metadata": {},
   "outputs": [],
   "source": [
    "import json\n",
    "import pandas as pd\n",
    "import numpy as np\n",
    "import matplotlib.pyplot as plt\n",
    "from collections import Counter\n",
    "from task_func import *\n",
    "import seaborn as sns\n",
    "import zipfile\n",
    "\n",
    "import warnings\n",
    "warnings.filterwarnings(\"ignore\")"
   ]
  },
  {
   "cell_type": "markdown",
   "metadata": {},
   "source": [
    "## Import Data"
   ]
  },
  {
   "cell_type": "code",
   "execution_count": 5,
   "metadata": {},
   "outputs": [],
   "source": [
    "archive = zipfile.ZipFile('data/github_profiles_samples.zip','r')\n",
    "data = [json.loads(line) for line in archive.open('data/github_profiles_samples.jsonl')]"
   ]
  },
  {
   "cell_type": "markdown",
   "metadata": {},
   "source": [
    "## Task 1 (Programming Language Statistics)"
   ]
  },
  {
   "cell_type": "markdown",
   "metadata": {},
   "source": [
    "### 1. Parse Programming languages per profile\n",
    "\n",
    "We want to make a dictionary of each profile and their programming languages. I choose dictionary so that we can retain the information of the user."
   ]
  },
  {
   "cell_type": "code",
   "execution_count": 6,
   "metadata": {},
   "outputs": [
    {
     "data": {
      "text/plain": [
       "['JavaScript', 'CSS', 'HTML', 'Jupyter Notebook']"
      ]
     },
     "execution_count": 6,
     "metadata": {},
     "output_type": "execute_result"
    }
   ],
   "source": [
    "user_data_dict = get_language(data)\n",
    "user_data_dict['5f701050c77de72045952016']"
   ]
  },
  {
   "cell_type": "markdown",
   "metadata": {},
   "source": [
    "### 2. Compute and Visualize statistics"
   ]
  },
  {
   "cell_type": "markdown",
   "metadata": {},
   "source": [
    "#### User percentage per language"
   ]
  },
  {
   "cell_type": "code",
   "execution_count": 7,
   "metadata": {},
   "outputs": [
    {
     "data": {
      "text/plain": [
       "[('HTML', 33755),\n",
       " ('JavaScript', 31917),\n",
       " ('CSS', 29703),\n",
       " ('Python', 22089),\n",
       " ('Shell', 19166),\n",
       " ('Java', 19091),\n",
       " ('C++', 13339),\n",
       " ('C', 12515),\n",
       " ('PHP', 10713),\n",
       " ('Makefile', 10042),\n",
       " ('Ruby', 9753),\n",
       " ('TypeScript', 8210),\n",
       " ('C#', 8088),\n",
       " ('Objective-C', 6478),\n",
       " ('Jupyter Notebook', 6316)]"
      ]
     },
     "execution_count": 7,
     "metadata": {},
     "output_type": "execute_result"
    }
   ],
   "source": [
    "lang_data = countable_lang(user_data_dict) #From dictionary to list\n",
    "most_used_lang = most_used_language(lang_data, 15) #Return 15 highest most used language and the number of user\n",
    "most_used_lang"
   ]
  },
  {
   "cell_type": "code",
   "execution_count": 8,
   "metadata": {},
   "outputs": [
    {
     "data": {
      "text/plain": [
       "[('HTML', 66.16),\n",
       " ('JavaScript', 62.56),\n",
       " ('CSS', 58.22),\n",
       " ('Python', 43.3),\n",
       " ('Shell', 37.57),\n",
       " ('Java', 37.42),\n",
       " ('C++', 26.15),\n",
       " ('C', 24.53),\n",
       " ('PHP', 21.0),\n",
       " ('Makefile', 19.68),\n",
       " ('Ruby', 19.12),\n",
       " ('TypeScript', 16.09),\n",
       " ('C#', 15.85),\n",
       " ('Objective-C', 12.7),\n",
       " ('Jupyter Notebook', 12.38)]"
      ]
     },
     "execution_count": 8,
     "metadata": {},
     "output_type": "execute_result"
    }
   ],
   "source": [
    "#percentage\n",
    "language_percentage = calculate_language_percentage(most_used_lang, user_data_dict) #calculate percentage of usage per language from all users\n",
    "language_percentage"
   ]
  },
  {
   "cell_type": "code",
   "execution_count": 9,
   "metadata": {},
   "outputs": [
    {
     "data": {
      "image/png": "[encoded data removed]",
      "text/plain": [
       "<Figure size 432x288 with 1 Axes>"
      ]
     },
     "metadata": {
      "needs_background": "light"
     },
     "output_type": "display_data"
    }
   ],
   "source": [
    "#visualize language percentage\n",
    "visualize_language_percentage(language_percentage)"
   ]
  },
  {
   "cell_type": "code",
   "execution_count": 10,
   "metadata": {},
   "outputs": [
    {
     "name": "stdout",
     "output_type": "stream",
     "text": [
      "66.16\n",
      "37.42\n"
     ]
    }
   ],
   "source": [
    "print(percentage_use('HTML', lang_data, user_data_dict))\n",
    "print(percentage_use('Java', lang_data, user_data_dict))"
   ]
  },
  {
   "cell_type": "markdown",
   "metadata": {},
   "source": [
    "#### Languages pairs"
   ]
  },
  {
   "cell_type": "code",
   "execution_count": 11,
   "metadata": {},
   "outputs": [
    {
     "name": "stdout",
     "output_type": "stream",
     "text": [
      "ZAP                       ZIL           0.816489\n",
      "RUNOFF                    ZIL           0.707100\n",
      "HLSL                      ShaderLab     0.694613\n",
      "C                         C++           0.687105\n",
      "CSS                       JavaScript    0.677127\n",
      "                          HTML          0.648578\n",
      "MQL4                      MQL5          0.619651\n",
      "RUNOFF                    ZAP           0.577339\n",
      "HTML                      JavaScript    0.567145\n",
      "Volt                      Zephir        0.539961\n",
      "C                         Makefile      0.517260\n",
      "RUNOFF                    eC            0.499985\n",
      "Inform 7                  ZIL           0.499980\n",
      "Common Workflow Language  wdl           0.499941\n",
      "Boogie                    SMT           0.471340\n",
      "dtype: float64\n"
     ]
    }
   ],
   "source": [
    "#Transform to user-language dataframe (one-hot-encoded)\n",
    "user_df = to_user_lang_df(user_data_dict)\n",
    "\n",
    "#15 highest correlated language pairs\n",
    "lang_pair = get_top_abs_correlations(user_df, 15)\n",
    "print(lang_pair)"
   ]
  },
  {
   "cell_type": "code",
   "execution_count": 12,
   "metadata": {},
   "outputs": [
    {
     "data": {
      "image/png": "[encoded data removed]",
      "text/plain": [
       "<Figure size 576x432 with 2 Axes>"
      ]
     },
     "metadata": {
      "needs_background": "light"
     },
     "output_type": "display_data"
    }
   ],
   "source": [
    "#visualize correlation\n",
    "visualize_correlated_pair(user_df, lang_pair)"
   ]
  },
  {
   "cell_type": "markdown",
   "metadata": {},
   "source": [
    "### 3. Grouping GitHub profiles\n",
    "\n",
    "- Clustering is one way we can do, given the language used. In addition to that we need to have a list of job with their corresponding used language. \n",
    "- Or, since we already have the pair correlation, we can derive groups of language that are correlated to each other (Blockmodeling) . And we will still need to additionaly give information about the required programming languages used by each job. Only after that we know which group a profile belongs to."
   ]
  },
  {
   "cell_type": "markdown",
   "metadata": {},
   "source": [
    "## Task 2 (Proficiency Measure)\n",
    "\n",
    "The script can be run through command like by:\n",
    "\n",
    "```python\n",
    "python proficiency_measure.py\n",
    "```\n",
    "\n",
    "Input :\n",
    "* User ID (without (''))\n",
    "\n",
    "Output :\n",
    "* Languages used by the user\n",
    "* Calculated user language proficiency\n",
    "\n",
    "Data preparation :\n",
    "* Only count repos which are not forked from others (because it might be the case that user forked from others and not change anything about it)\n",
    "* Filter repos which have no 'name' and 'languages' (because language is what we measure, and name to make it legit serious repo)\n",
    "* Get only repos which languages' informations are complete, i.e. have name of language and percentage (otherwise we don't know what to count)\n",
    "* Take max(Forks, stars) as the extra point for users which works are liked by many people / deemed useful by other users. (Validation from others)\n",
    "\n",
    "Feature Engineering :\n",
    "* Count language frequencies of the user repos\n",
    "* Count final point by:\n",
    "    * Give extra max(Forks, stars)% points for languages that are not too small in percentage (>20%) and liked by 20 to 50 people (stars/forks)\n",
    "    * Push points to 100% for languages that are used as a major language (>50%) and liked by more than 50 people (crowd's favs!)\n",
    "    * Pull down the point to 10% if the language frequency is small (<5) and not liked by more than 10 people (to avoid over-appraisal).\n",
    "    <br> For example: user with only 1 repo which used 100% python would results in average of 100% python proficient.\n",
    "    * Give extra credits for users who are actively displaying their portfolio <br>\n",
    "        - Turns to 75% when the final point is less than 75% but have more than 10 repos with corresponding language.\n",
    "        - Turns to 100% when there are more than 20 repos using corresponding language.\n",
    "    * Cap the final points by 100%\n",
    "\n",
    "Calculation : **Average final points grouped by language**\n",
    "\n",
    "**Further Ideas:**\n",
    "* Calculate benchmark by relative computing, i.e. superiority compared to other users. \n"
   ]
  },
  {
   "cell_type": "markdown",
   "metadata": {},
   "source": [
    "## Task 3 (GitHub Brainstorming)\n",
    "\n",
    "Since the main business of Talentwunder is providing profiles which match the job required by users (hiring companies), and also corresponding to the future project Talentwunder is planning (super profile) I will share an idea where the given data can be used for **profile enrichment**.\n",
    "The idea takes an assumption that we **only** have the provided data.\n",
    "\n",
    "Given : GitHub profiles <br>\n",
    "Aim : Profile Enrichment <br>\n",
    "User : Hiring companies\n",
    "\n",
    "* Active profiles : We can share the activity level of a profile by its number of contributions. This help users identify profiles which are *progressing*. Of course exact measurement of how we show activity level can be further discussed from many aspects, for examples:\n",
    "    * Rising star : being active **JUST** recently by posting more original repos, making contributions, liked by others (all by frequency manners compared to other people), can indicate that the profile just entering the Tech world, recently interested in a specific topic, currently building a project. \n",
    "    * Git Regulars : regularly active in git. Usually indicate profiles are used to using git, already an established profile. <br>\n",
    "\n",
    "* Popular profiles : Profiles with outstandingly many forks, stars, watchers.\n",
    "    * Can also as a stat : \"Profile B have a total of X stars, that's higher than 95% of other profiles\".\n",
    "    * Collaborative users : when many people contribute to user repos, indicate the profile can do collaborations, also indicates an interesting repo topic.\n",
    "\n",
    "* Interest : This is also something which can be useful for recruiters, knowing the interest of each profiles. <br>\n",
    "If we have **Topic** object, we can already derive the profiles' interests. Alternatively, we can also derive the topics from repos' name, as well as repos' notes (some repos have notes) --> Text Processing. Thus, other than language proficiency, users can also match the interest of the users. \n",
    "\n",
    "* Similar profiles: Users are usually also interested to profiles that are comparable in skills for a specific job. Thus giving *similar profiles recommendation* can be helpful for recruiters to approach more people in less time. With our github data, we can calculate similarity by grouping them based on languages they use, more over from their interests that we have derived above.\n",
    "\n",
    "* Language diversity : A profile which uses many languages can also be attractive to users."
   ]
  },
  {
   "cell_type": "markdown",
   "metadata": {},
   "source": []
  }
 ],
 "metadata": {
  "kernelspec": {
   "display_name": "Python 3.8.8 ('base')",
   "language": "python",
   "name": "python3"
  },
  "language_info": {
   "codemirror_mode": {
    "name": "ipython",
    "version": 3
   },
   "file_extension": ".py",
   "mimetype": "text/x-python",
   "name": "python",
   "nbconvert_exporter": "python",
   "pygments_lexer": "ipython3",
   "version": "3.8.8"
  },
  "orig_nbformat": 4,
  "vscode": {
   "interpreter": {
    "hash": "288cb9e3d2db987977e7c3f58b5e7082402c383528acb16c80c0029995f6239d"
   }
  }
 },
 "nbformat": 4,
 "nbformat_minor": 2
}
